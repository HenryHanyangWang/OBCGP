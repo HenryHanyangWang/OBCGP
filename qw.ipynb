{
 "cells": [
  {
   "cell_type": "code",
   "execution_count": 1,
   "metadata": {},
   "outputs": [],
   "source": [
    "import torch\n",
    "from botorch.utils.sampling import draw_sobol_samples\n",
    "\n",
    "\n",
    "device = torch.device(\"cuda\" if torch.cuda.is_available() else \"cpu\")\n",
    "dtype = torch.double\n",
    "\n",
    "def get_initial_points(bounds,num,device,dtype,seed=0):\n",
    "\n",
    "        #bounds =  torch.tensor([0.,1.]*dim).reshape(-1,2).T\n",
    "    \n",
    "        train_x = draw_sobol_samples(\n",
    "        bounds=bounds, n=num, q=1,seed=seed).reshape(num,-1).to(device, dtype=dtype)\n",
    "        \n",
    "        return train_x"
   ]
  },
  {
   "cell_type": "code",
   "execution_count": 2,
   "metadata": {},
   "outputs": [],
   "source": [
    "from obj_functions.obj_function import XGBoost"
   ]
  },
  {
   "cell_type": "code",
   "execution_count": 3,
   "metadata": {},
   "outputs": [],
   "source": [
    "fun = XGBoost(task='skin', seed=0)\n",
    "dim = fun.dim\n",
    "bounds = fun.bounds\n",
    "\n",
    "fstar = 0."
   ]
  },
  {
   "cell_type": "code",
   "execution_count": 4,
   "metadata": {},
   "outputs": [],
   "source": [
    "X_BO = get_initial_points(bounds, 10,device,dtype,seed=0)\n",
    "Y_BO = torch.tensor(\n",
    "[fun(x) for x in X_BO], dtype=dtype, device=device\n",
    ").reshape(-1,1)"
   ]
  },
  {
   "cell_type": "code",
   "execution_count": 5,
   "metadata": {},
   "outputs": [
    {
     "data": {
      "text/plain": [
       "tensor([[17.0164],\n",
       "        [ 4.0345],\n",
       "        [ 4.2466],\n",
       "        [16.4179],\n",
       "        [16.5267],\n",
       "        [17.0273],\n",
       "        [ 4.0726],\n",
       "        [17.2503],\n",
       "        [17.7563],\n",
       "        [ 5.0056]], dtype=torch.float64)"
      ]
     },
     "execution_count": 5,
     "metadata": {},
     "output_type": "execute_result"
    }
   ],
   "source": [
    "Y_BO"
   ]
  },
  {
   "cell_type": "code",
   "execution_count": null,
   "metadata": {},
   "outputs": [],
   "source": []
  },
  {
   "cell_type": "code",
   "execution_count": 6,
   "metadata": {},
   "outputs": [],
   "source": [
    "import obj_functions.push_problems"
   ]
  },
  {
   "cell_type": "code",
   "execution_count": 10,
   "metadata": {},
   "outputs": [
    {
     "name": "stdout",
     "output_type": "stream",
     "text": [
      "tensor([[16.0877],\n",
      "        [ 7.0341],\n",
      "        [ 7.5615],\n",
      "        [ 3.1186],\n",
      "        [11.0760],\n",
      "        [ 8.4923],\n",
      "        [ 7.7236],\n",
      "        [ 3.5007],\n",
      "        [ 8.7681],\n",
      "        [ 5.3151]], dtype=torch.float64)\n"
     ]
    }
   ],
   "source": [
    "temp={}\n",
    "temp['name']='Push4D' \n",
    "f_class = obj_functions.push_problems.push4\n",
    "tx_1 = 3.5; ty_1 = 4\n",
    "fun = f_class(tx_1, ty_1)\n",
    "\n",
    "dim = fun.dim\n",
    "bounds = fun.bounds\n",
    "\n",
    "X_BO = get_initial_points(bounds, 10,device,dtype,seed=0)\n",
    "Y_BO = torch.tensor(\n",
    "[fun(x) for x in X_BO], dtype=dtype, device=device\n",
    ").reshape(-1,1)\n",
    "print(Y_BO)"
   ]
  }
 ],
 "metadata": {
  "kernelspec": {
   "display_name": "tf1",
   "language": "python",
   "name": "python3"
  },
  "language_info": {
   "codemirror_mode": {
    "name": "ipython",
    "version": 3
   },
   "file_extension": ".py",
   "mimetype": "text/x-python",
   "name": "python",
   "nbconvert_exporter": "python",
   "pygments_lexer": "ipython3",
   "version": "3.6.13"
  }
 },
 "nbformat": 4,
 "nbformat_minor": 2
}
